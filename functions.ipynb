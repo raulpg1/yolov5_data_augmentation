{
 "cells": [
  {
   "cell_type": "markdown",
   "id": "387aa06b",
   "metadata": {},
   "source": [
    "## *Imports*"
   ]
  },
  {
   "cell_type": "code",
   "execution_count": 10,
   "id": "a3e5aefd",
   "metadata": {},
   "outputs": [],
   "source": [
    "import random as rd\n",
    "import numpy as np\n",
    "from PIL import Image, ImageEnhance\n",
    "import torch\n",
    "import pandas as pd\n",
    "import tensorflow as tf\n",
    "import json\n",
    "import cv2\n",
    "import copy\n",
    "import matplotlib.pyplot as plt\n",
    "import matplotlib.patches as patches\n",
    "import re\n",
    "import os\n",
    "import math\n",
    "import time"
   ]
  },
  {
   "cell_type": "markdown",
   "id": "cc87701d",
   "metadata": {},
   "source": [
    "## *Transformación de Imágenes*"
   ]
  },
  {
   "cell_type": "code",
   "execution_count": 3,
   "id": "148f6029",
   "metadata": {},
   "outputs": [],
   "source": [
    "def add_brightness(img,num_img,flag,model):\n",
    "    enhacer = ImageEnhance.Brightness(img)\n",
    "    factors = [1]\n",
    "    lista = []\n",
    "    while 1 in factors:\n",
    "        factors = np.random.uniform(0.5,1.75,num_img)\n",
    "    for fact in factors:\n",
    "        lista.append(np.asarray(enhacer.enhance(fact)))\n",
    "    if flag == 0:\n",
    "        return get_all_detections(lista,model)\n",
    "    else:\n",
    "        return lista"
   ]
  },
  {
   "cell_type": "code",
   "execution_count": 4,
   "id": "4dd271f7",
   "metadata": {},
   "outputs": [],
   "source": [
    "def add_contrast(img,num_img,flag,model):\n",
    "    enhacer = ImageEnhance.Contrast(img)\n",
    "    factors = [1]\n",
    "    lista = []  \n",
    "    while 1 in factors:\n",
    "        factors = np.random.uniform(0.5,2,num_img)\n",
    "    for fact in factors:\n",
    "        lista.append(np.asarray(enhacer.enhance(fact)))\n",
    "    if flag == 0:\n",
    "        return get_all_detections(lista,model)\n",
    "    else:\n",
    "        return lista"
   ]
  },
  {
   "cell_type": "code",
   "execution_count": 5,
   "id": "dd374944",
   "metadata": {},
   "outputs": [],
   "source": [
    "def add_sharpness(img,num_img,flag,model):\n",
    "    enhacer = ImageEnhance.Sharpness(img)\n",
    "    factors = np.random.uniform(0.5,5,num_img)\n",
    "    lista = []\n",
    "    for fact in factors:\n",
    "        lista.append(np.asarray(enhacer.enhance(fact)))\n",
    "    if flag == 0:\n",
    "        return get_all_detections(lista,model)\n",
    "    else:\n",
    "        return lista"
   ]
  },
  {
   "cell_type": "code",
   "execution_count": 6,
   "id": "e89171a9",
   "metadata": {},
   "outputs": [],
   "source": [
    "def add_color(img,num_img,flag,model):\n",
    "    enhacer = ImageEnhance.Color(img)\n",
    "    factors = [1]\n",
    "    lista = []\n",
    "    while 1 in factors:\n",
    "        factors = np.random.uniform(0,2.5,num_img)\n",
    "    for fact in factors:\n",
    "        lista.append(np.asarray(enhacer.enhance(fact)))\n",
    "    if flag == 0:\n",
    "        return get_all_detections(lista,model)\n",
    "    else:\n",
    "        return lista"
   ]
  },
  {
   "cell_type": "code",
   "execution_count": 2,
   "id": "b4adb722",
   "metadata": {},
   "outputs": [],
   "source": [
    "def genera_rotaciones(img,num_rot,flag,model):\n",
    "    dict_rotations = dict()\n",
    "    rotaciones = []\n",
    "    grados = [355,356,357,358,359,1,2,3,4,5] #+-10º\n",
    "    for i in range(0,num_rot):\n",
    "        rand_idx = rd.randint(0, len(grados)-1)\n",
    "        rot = rotate_image(np.asanyarray(img),grados[rand_idx])\n",
    "        shp = np.asarray(img)\n",
    "        dict_rotations[i] = (grados[rand_idx],shp.shape[:2])\n",
    "        rotaciones.append(rot)\n",
    "    df_aux = get_all_detections(rotaciones,model)\n",
    "    return deshacer_rot(df_aux,dict_rotations)"
   ]
  },
  {
   "cell_type": "code",
   "execution_count": null,
   "id": "bff613ac",
   "metadata": {},
   "outputs": [],
   "source": [
    "def rotate_box(corners,angle,  cx, cy, h, w): \n",
    "    corners = corners.reshape(-1,2)\n",
    "    corners = np.hstack((corners, np.ones((corners.shape[0],1), dtype = type(corners[0][0])))) \n",
    "    M = cv2.getRotationMatrix2D((cx, cy), angle, 1.0)\n",
    "    cos = np.abs(M[0, 0])\n",
    "    sin = np.abs(M[0, 1])\n",
    "    nW = int((h * sin) + (w * cos))\n",
    "    nH = int((h * cos) + (w * sin))\n",
    "    M[0, 2] += (nW / 2) - cx\n",
    "    M[1, 2] += (nH / 2) - cy\n",
    "    calculated = np.dot(M,corners.T).T\n",
    "    calculated = calculated.reshape(-1,8)\n",
    "    return calculated"
   ]
  },
  {
   "cell_type": "code",
   "execution_count": null,
   "id": "45ca8e7f",
   "metadata": {},
   "outputs": [],
   "source": [
    "def rotate_image(mat, angle):\n",
    "    height, width = mat.shape[:2]\n",
    "    image_center = (width/2, height/2) \n",
    "    rotation_mat = cv2.getRotationMatrix2D(image_center, angle, 1.)\n",
    "    abs_cos = abs(rotation_mat[0,0]) \n",
    "    abs_sin = abs(rotation_mat[0,1])\n",
    "    bound_w = int(height * abs_sin + width * abs_cos)\n",
    "    bound_h = int(height * abs_cos + width * abs_sin)\n",
    "    rotation_mat[0, 2] += bound_w/2 - image_center[0]\n",
    "    rotation_mat[1, 2] += bound_h/2 - image_center[1]\n",
    "    rotated_mat = cv2.warpAffine(mat, rotation_mat, (bound_w, bound_h))\n",
    "    return rotated_mat"
   ]
  },
  {
   "cell_type": "markdown",
   "id": "fc8ec7b0",
   "metadata": {},
   "source": [
    "### *Deshacer las rotaciones*"
   ]
  },
  {
   "cell_type": "code",
   "execution_count": 101,
   "id": "237d32b8",
   "metadata": {},
   "outputs": [],
   "source": [
    "def deshacer_rot(df_rotado,dict_angle):\n",
    "    df_final = pd.DataFrame()\n",
    "    for i in range(0,len(df_rotado)): #Recorremos el numero de detecciones distintas--\n",
    "        df_aux = df_rotado[df_rotado['Deteccion']==i]\n",
    "        for j in range(0,len(df_aux)):\n",
    "            angle = dict_angle[i][0]\n",
    "            y,x = dict_angle[i][1]\n",
    "            a = get_enclosing_box(rotate_box(get_corners(np.asarray([[df_aux.loc[j,'xmin'],\n",
    "                                                                      df_aux.loc[j,'ymin'],\n",
    "                                                                      df_aux.loc[j,'xmax'],\n",
    "                                                                      df_aux.loc[j,'ymax']]])),\n",
    "                                             -angle,y/2,x/2,x,y))\n",
    "            df_aux.loc[j,'xmin'] = limit(a[0][0],x)\n",
    "            df_aux.loc[j,'ymin'] = limit(a[0][1],y)\n",
    "            df_aux.loc[j,'xmax'] = limit(a[0][2],x)\n",
    "            df_aux.loc[j,'ymax'] = limit(a[0][3],y)\n",
    "        df_final = pd.concat([df_aux,df_final],axis=0)\n",
    "    return df_final"
   ]
  },
  {
   "cell_type": "code",
   "execution_count": null,
   "id": "435c4732",
   "metadata": {},
   "outputs": [],
   "source": [
    "def get_corners(bboxes):\n",
    "    width = (bboxes[:,2] - bboxes[:,0]).reshape(-1,1)\n",
    "    height = (bboxes[:,3] - bboxes[:,1]).reshape(-1,1)\n",
    "    x1 = bboxes[:,0].reshape(-1,1)\n",
    "    y1 = bboxes[:,1].reshape(-1,1)\n",
    "    x2 = x1 + width\n",
    "    y2 = y1 \n",
    "    x3 = x1\n",
    "    y3 = y1 + height\n",
    "    x4 = bboxes[:,2].reshape(-1,1)\n",
    "    y4 = bboxes[:,3].reshape(-1,1)\n",
    "    corners = np.hstack((x1,y1,x2,y2,x3,y3,x4,y4))\n",
    "    return corners"
   ]
  },
  {
   "cell_type": "code",
   "execution_count": null,
   "id": "38120745",
   "metadata": {},
   "outputs": [],
   "source": [
    "def get_enclosing_box(corners):\n",
    "    x_ = corners[:,[0,2,4,6]]\n",
    "    y_ = corners[:,[1,3,5,7]]\n",
    "    xmin = np.min(x_,1).reshape(-1,1)\n",
    "    ymin = np.min(y_,1).reshape(-1,1)\n",
    "    xmax = np.max(x_,1).reshape(-1,1)\n",
    "    ymax = np.max(y_,1).reshape(-1,1)\n",
    "    final = np.hstack((xmin, ymin, xmax, ymax,corners[:,8:]))\n",
    "    return final"
   ]
  },
  {
   "cell_type": "code",
   "execution_count": null,
   "id": "fb2a589d",
   "metadata": {},
   "outputs": [],
   "source": [
    "def limit(pos,lim):\n",
    "    if pos>lim:\n",
    "        return lim\n",
    "    elif pos < 0:\n",
    "        return 0\n",
    "    return pos"
   ]
  },
  {
   "cell_type": "markdown",
   "id": "cda20e64",
   "metadata": {},
   "source": [
    "## *Generar el dataset con las transformaciones*"
   ]
  },
  {
   "cell_type": "markdown",
   "id": "4b304918",
   "metadata": {},
   "source": [
    "### *Seleccionamos la transformación*"
   ]
  },
  {
   "cell_type": "code",
   "execution_count": 10,
   "id": "7d60a18c",
   "metadata": {},
   "outputs": [],
   "source": [
    "def elige_funcion(img,num,transform,flag,model):\n",
    "    if transform == 0:\n",
    "        return get_all_detections([np.asarray(img)],model)\n",
    "    if transform == 1:\n",
    "        return genera_rotaciones(img,num,flag,model)\n",
    "    elif transform == 2:\n",
    "        return add_brightness(img,num,flag,model)\n",
    "    elif transform == 3:\n",
    "        return add_contrast(img,num,flag,model)\n",
    "    elif transform == 4:\n",
    "        return add_sharpness(img,num,flag,model)\n",
    "    elif transform == 5:\n",
    "        return add_color(img,num,flag,model)"
   ]
  },
  {
   "cell_type": "markdown",
   "id": "f484d873",
   "metadata": {},
   "source": [
    "### *Aplicamos las transformaciones según la elección*"
   ]
  },
  {
   "cell_type": "code",
   "execution_count": 11,
   "id": "b46df9a4",
   "metadata": {},
   "outputs": [],
   "source": [
    "def transformations(num,elec):\n",
    "    remove_detections()\n",
    "    time.sleep(5)\n",
    "    model = torch.hub.load('ultralytics/yolov5', 'yolov5s', pretrained=True)\n",
    "    df_transformed = pd.DataFrame()\n",
    "    for img_path in os.listdir('./original_images'):\n",
    "        img = Image.open('./original_images/'+img_path)\n",
    "        for trans in elec:\n",
    "            if len(trans) == 1: #solo se realiza una transformación\n",
    "                df_aux = elige_funcion(img,num,trans[0],0,model)\n",
    "                write_transformations(df_aux,img_path)\n",
    "                df_transformed = pd.concat([df_aux,df_transformed],axis=0)\n",
    "            else: #se realizan varias transformaciones\n",
    "                list_img = []\n",
    "                list_img_aux = []\n",
    "                rot = False\n",
    "                for idx,elem in enumerate(trans):\n",
    "                    if idx == 0:\n",
    "                        list_img_aux = elige_funcion(img,num,elem,1,model)\n",
    "                    elif elem == 1: #salimos para llamar a las rotaciones fuera\n",
    "                        rot = True\n",
    "                        break\n",
    "                    else:\n",
    "                        list_img_aux = list_img\n",
    "                        list_img = []\n",
    "                    for i in range(0,len(list_img_aux)):\n",
    "                        list_img.extend(elige_funcion(Image.fromarray(list_img_aux[i]),1,elem,1,model)) \n",
    "                if rot is True:\n",
    "                    for img_aux in list_img: #caso de las rotaciones\n",
    "                        df_aux = elige_funcion(Image.fromarray(img_aux),1,1,0,model)\n",
    "                        write_transformations(df_aux,img_path)\n",
    "                        df_transformed = pd.concat([df_aux,df_transformed],axis=0)\n",
    "                else:\n",
    "                    df_aux = get_all_detections(list_img,model)\n",
    "                    write_transformations(df_aux,img_path)\n",
    "                    df_transformed = pd.concat([df_aux,df_transformed],axis=0)\n",
    "    return df_transformed"
   ]
  },
  {
   "cell_type": "markdown",
   "id": "298c51f7",
   "metadata": {},
   "source": [
    "### *Escribimos las transformaciones en detecciones.txt*"
   ]
  },
  {
   "cell_type": "code",
   "execution_count": 12,
   "id": "90ecf715",
   "metadata": {},
   "outputs": [],
   "source": [
    "def write_transformations(df,image_path):\n",
    "    image_id = re.search(r\"2014_0*(\\d*)\",image_path)\n",
    "    image_id = image_id.group(1)\n",
    "    for i in range(0,len(df)):\n",
    "        f = open(\"./Object-Detection-Metrics-master/detections/\"+str(image_id)+\".txt\", \"a\")\n",
    "        f.write(df.iloc[i]['name']+\" \"+str(df.iloc[i]['confidence'])+\" \"+str(df.iloc[i]['xmin'])+\" \"+\n",
    "                str(df.iloc[i]['ymin'])+\" \"+str(df.iloc[i]['xmax']-df.iloc[i]['xmin'])+\" \"+str(df.iloc[i]['ymax']-df.iloc[i]['ymin']))\n",
    "        f.write(\"\\n\")\n",
    "        f.close()"
   ]
  },
  {
   "cell_type": "code",
   "execution_count": null,
   "id": "b252d28d",
   "metadata": {},
   "outputs": [],
   "source": [
    "def write_exec(transformation,num_img_transformed,mAp):\n",
    "    f = open(\"./output.txt\", \"a\")\n",
    "    f.write(str(transformation)+\"; num_img:\"+\n",
    "            str(num_img_transformed)+\"; num_orig:\"+\n",
    "            str(len(os.listdir('./original_images')))+\"; \"+\n",
    "            mAp)\n",
    "    f.write(\"\\n\")\n",
    "    f.close()"
   ]
  },
  {
   "cell_type": "markdown",
   "id": "48c5fc5b",
   "metadata": {},
   "source": [
    "## *Obtener groundtruth de las imagenes originales*"
   ]
  },
  {
   "cell_type": "code",
   "execution_count": 13,
   "id": "e080d176",
   "metadata": {},
   "outputs": [],
   "source": [
    "def save_annotations_original_images():\n",
    "    lista_original = os.listdir('./original_images')\n",
    "    lista_org_final = []\n",
    "    for elem in lista_original:\n",
    "        m = re.match(r\"([^0-9]*2014_0*)([0-9]*)\",elem)\n",
    "        lista_org_final.append(m.group(2))\n",
    "\n",
    "    lista_gt = os.listdir('./Object-Detection-Metrics-master/groundtruths/')\n",
    "    lista_gt = [x[0:-4] for x in lista_gt]\n",
    "    for elem in lista_gt:\n",
    "        if not elem in lista_org_final:\n",
    "            os.remove('./Object-Detection-Metrics-master/groundtruths/'+elem+'.txt')\n",
    "            \n",
    "    all_boxes = []\n",
    "    for path in os.listdir('./original_images'):\n",
    "        img = Image.open('original_images/'+path)\n",
    "        all_boxes.append(get_annotations(img))\n",
    "    return all_boxes    "
   ]
  },
  {
   "cell_type": "code",
   "execution_count": 1,
   "id": "152590b6",
   "metadata": {},
   "outputs": [],
   "source": [
    "def get_annotations(image_id):\n",
    "    \n",
    "    all_classes = {1: 'person', 2: 'bicycle', 3: 'car', 4: 'motorcycle', 5: 'airplane', 6: 'bus', 7: 'train', 8: 'truck',\n",
    "                   9: 'boat', 10: 'traffic light', 11: 'fire hydrant', 12: 'street sign', 13: 'stop sign', 14: 'parking meter',\n",
    "                   15: 'bench', 16: 'bird', 17: 'cat', 18: 'dog', 19: 'horse', 20: 'sheep', 21: 'cow', 22: 'elephant',\n",
    "                   23: 'bear', 24: 'zebra', 25: 'giraffe', 26: 'hat', 27: 'backpack', 28: 'umbrella', 29: 'shoe',\n",
    "                   30: 'eye glasses', 31: 'handbag', 32: 'tie', 33: 'suitcase', 34: 'frisbee', 35: 'skis', 36: 'snowboard',\n",
    "                   37: 'sports ball', 38: 'kite', 39: 'baseball bat', 40: 'baseball glove', 41: 'skateboard', 42: 'surfboard',\n",
    "                   43: 'tennis racket', 44: 'bottle', 45: 'plate', 46: 'wine glass', 47: 'cup', 48: 'fork', 49: 'knife',\n",
    "                   50: 'spoon', 51: 'bowl', 52: 'banana', 53: 'apple', 54: 'sandwich', 55: 'orange', 56: 'broccoli',\n",
    "                   57: 'carrot', 58: 'hot dog', 59: 'pizza', 60: 'donut', 61: 'cake', 62: 'chair', 63: 'couch',\n",
    "                   64: 'potted plant', 65: 'bed', 66: 'mirror', 67: 'dining table', 68: 'window', 69: 'desk',\n",
    "                   70: 'toilet', 71: 'door', 72: 'tv', 73: 'laptop', 74: 'mouse', 75: 'remote', 76: 'keyboard',\n",
    "                   77: 'cell phone', 78: 'microwave', 79: 'oven', 80: 'toaster', 81: 'sink', 82: 'refrigerator',\n",
    "                   83: 'blender', 84: 'book', 85: 'clock', 86: 'vase', 87: 'scissors', 88: 'teddy bear', 89: 'hair drier',\n",
    "                   90: 'toothbrush', 91: 'hair brush'}\n",
    "    \n",
    "    yolo_classes = {'person': 0, 'bicycle': 1, 'car': 2, 'motorcycle': 3, 'airplane': 4, 'bus': 5, 'train': 6, 'truck': 7,\n",
    "                    'boat': 8, 'traffic light': 9, 'fire hydrant': 10, 'stop sign': 11, 'parking meter': 12, 'bench': 13,\n",
    "                    'bird': 14, 'cat': 15, 'dog': 16, 'horse': 17, 'sheep': 18, 'cow': 19, 'elephant': 20, 'bear': 21,\n",
    "                    'zebra': 22, 'giraffe': 23, 'backpack': 24, 'umbrella': 25, 'handbag': 26, 'tie': 27, 'suitcase': 28,\n",
    "                    'frisbee': 29, 'skis': 30, 'snowboard': 31, 'sports ball': 32, 'kite': 33, 'baseball bat': 34,\n",
    "                    'baseball glove': 35, 'skateboard': 36, 'surfboard': 37, 'tennis racket': 38, 'bottle': 39,\n",
    "                    'wine glass': 40, 'cup': 41, 'fork': 42, 'knife': 43, 'spoon': 44, 'bowl': 45, 'banana': 46,\n",
    "                    'apple': 47, 'sandwich': 48, 'orange': 49, 'broccoli': 50, 'carrot': 51, 'hot dog': 52, 'pizza': 53,\n",
    "                    'donut': 54, 'cake': 55, 'chair': 56, 'couch': 57, 'potted plant': 58, 'bed': 59, 'dining table': 60,\n",
    "                    'toilet': 61, 'tv': 62, 'laptop': 63, 'mouse': 64, 'remote': 65, 'keyboard': 66, 'cell phone': 67,\n",
    "                    'microwave': 68, 'oven': 69, 'toaster': 70, 'sink': 71, 'refrigerator': 72, 'book': 73, 'clock': 74,\n",
    "                    'vase': 75, 'scissors': 76, 'teddy bear': 77, 'hair drier': 78, 'toothbrush': 79}\n",
    "    \n",
    "    if type(image_id)!=int:\n",
    "        m = re.match(r\"([^0-9]*2014_0*)([0-9]*)\",image_id.filename)\n",
    "        image_id = int(m.group(2))\n",
    "    try:\n",
    "        with open(\"./Object-Detection-Metrics-master/groundtruths/\"+str(image_id)+'.txt','r') as t:\n",
    "            return t.read().split('\\n')[0:-1]\n",
    "    except:\n",
    "        f = open('./annotations/instances_val2014.json')\n",
    "        dat = json.load(f) #procesamos el archivo JSON que tiene todas las detecciones\n",
    "        boxes = [] #Creamos una lista porque ese archivo tendra para cada imagen las detecciones por separado\n",
    "        category = []\n",
    "        class_name = []\n",
    "        for i in dat['annotations']:\n",
    "            if i['image_id'] == image_id:\n",
    "                category.append(yolo_classes[all_classes[i['category_id']]])\n",
    "                class_name.append(all_classes[i['category_id']])\n",
    "                boxes.append(i['bbox'])\n",
    "        f.close()\n",
    "        f = open(\"./Object-Detection-Metrics-master/groundtruths/\"+str(image_id)+\".txt\", \"w\")\n",
    "        for i,box in enumerate(boxes):\n",
    "            f.write(class_name[i])\n",
    "            for elem in box:\n",
    "                f.write(\" \")\n",
    "                f.write(str(elem))\n",
    "            f.write(\"\\n\")\n",
    "        f.close()\n",
    "        boxes.append(category)\n",
    "        return boxes"
   ]
  },
  {
   "cell_type": "markdown",
   "id": "223a1ad0",
   "metadata": {},
   "source": [
    "## *Obtenemos las detecciones de cada imágen transformada*"
   ]
  },
  {
   "cell_type": "code",
   "execution_count": 15,
   "id": "4d0fae1c",
   "metadata": {},
   "outputs": [],
   "source": [
    "def get_all_detections(dataset,model):\n",
    "    df = pd.DataFrame()\n",
    "    for i in range(0,len(dataset)):\n",
    "        imgs = Image.fromarray(dataset[i])\n",
    "        results = model(imgs)\n",
    "        aux = pd.DataFrame(results.pandas().xyxy[0])\n",
    "        aux = aux.assign(Deteccion=i)        \n",
    "        df = pd.concat([aux,df],axis=0)  \n",
    "    return df "
   ]
  },
  {
   "cell_type": "markdown",
   "id": "73339b34",
   "metadata": {},
   "source": [
    "## *Aplicamos NMS a las detecciones obtenidas*"
   ]
  },
  {
   "cell_type": "code",
   "execution_count": null,
   "id": "a2d6f55f",
   "metadata": {},
   "outputs": [],
   "source": [
    "def NMS(dets, thresh=0.95):\n",
    "    x1 = dets[:, 0]\n",
    "    y1 = dets[:, 1]\n",
    "    x2 = dets[:, 2]\n",
    "    y2 = dets[:, 3]\n",
    "    scores = dets[:, 4]\n",
    "\n",
    "    areas = (x2 - x1 + 1) * (y2 - y1 + 1)\n",
    "    order = scores.argsort()[::-1]\n",
    "\n",
    "    keep = []\n",
    "    while order.size > 0:\n",
    "        i = order[0]\n",
    "        keep.append(i)\n",
    "        xx1 = np.maximum(x1[i], x1[order[1:]])\n",
    "        yy1 = np.maximum(y1[i], y1[order[1:]])\n",
    "        xx2 = np.minimum(x2[i], x2[order[1:]])\n",
    "        yy2 = np.minimum(y2[i], y2[order[1:]])\n",
    "\n",
    "        w = np.maximum(0.0, xx2 - xx1 + 1)\n",
    "        h = np.maximum(0.0, yy2 - yy1 + 1)\n",
    "        inter = w * h\n",
    "        ovr = inter / (areas[i] + areas[order[1:]] - inter)\n",
    "\n",
    "        inds = np.where(ovr <= thresh)[0]\n",
    "        order = order[inds + 1]\n",
    "\n",
    "    return keep"
   ]
  },
  {
   "cell_type": "markdown",
   "id": "40611fce",
   "metadata": {},
   "source": [
    "### *Funciones aux para el cálculo del NMS*"
   ]
  },
  {
   "cell_type": "code",
   "execution_count": 1,
   "id": "b4715415",
   "metadata": {},
   "outputs": [],
   "source": [
    "def apply_NMS():\n",
    "    folder_path = './Object-Detection-Metrics-master/detections/'\n",
    "    for path in os.listdir(folder_path):\n",
    "        df_final = pd.DataFrame()\n",
    "        f = open(folder_path+path, \"r\")\n",
    "        df = str_to_df(f.read().split(\"\\n\"))\n",
    "        f.close()\n",
    "        boxes = get_box(df)\n",
    "        for box in boxes:\n",
    "            df_final = pd.concat([df_final,df.iloc[box[0][0]].to_frame().T],ignore_index=True)\n",
    "        df = df_final\n",
    "        f = open(folder_path+path,\"w\")\n",
    "        for i in range(0,len(df_final)):\n",
    "            f.write(df.iloc[i]['name']+\" \"+str(df.iloc[i]['confidence'])+\" \"+str(df.iloc[i]['xmin'])+\" \"+str(df.iloc[i]['ymin'])+\" \"+\n",
    "                    str(df.iloc[i]['xmax']-df.iloc[i]['xmin'])+\" \"+str(df.iloc[i]['ymax']-df.iloc[i]['ymin']))\n",
    "            f.write(\"\\n\")\n",
    "        f.close()"
   ]
  },
  {
   "cell_type": "code",
   "execution_count": 5,
   "id": "56694aea",
   "metadata": {},
   "outputs": [],
   "source": [
    "def str_to_df(st):\n",
    "    df = pd.DataFrame(columns =['xmin','ymin','xmax','ymax','name','confidence','class']) \n",
    "    yolo_classes = {'person': 0, 'bicycle': 1, 'car': 2, 'motorcycle': 3, 'airplane': 4, 'bus': 5, 'train': 6, 'truck': 7, 'boat': 8, 'traffic light': 9, 'fire hydrant': 10, 'stop sign': 11, 'parking meter': 12, 'bench': 13, 'bird': 14, 'cat': 15, 'dog': 16, 'horse': 17, 'sheep': 18, 'cow': 19, 'elephant': 20, 'bear': 21, 'zebra': 22, 'giraffe': 23, 'backpack': 24, 'umbrella': 25, 'handbag': 26, 'tie': 27, 'suitcase': 28, 'frisbee': 29, 'skis': 30, 'snowboard': 31, 'sports ball': 32, 'kite': 33, 'baseball bat': 34, 'baseball glove': 35, 'skateboard': 36, 'surfboard': 37, 'tennis racket': 38, 'bottle': 39, 'wine glass': 40, 'cup': 41, 'fork': 42, 'knife': 43, 'spoon': 44, 'bowl': 45, 'banana': 46, 'apple': 47, 'sandwich': 48, 'orange': 49, 'broccoli': 50, 'carrot': 51, 'hot dog': 52, 'pizza': 53, 'donut': 54, 'cake': 55, 'chair': 56, 'couch': 57, 'potted plant': 58, 'bed': 59, 'dining table': 60, 'toilet': 61, 'tv': 62, 'laptop': 63, 'mouse': 64, 'remote': 65, 'keyboard': 66, 'cell phone': 67, 'microwave': 68, 'oven': 69, 'toaster': 70, 'sink': 71, 'refrigerator': 72, 'book': 73, 'clock': 74, 'vase': 75, 'scissors': 76, 'teddy bear': 77, 'hair drier': 78, 'toothbrush': 79}\n",
    "    for det in st[:-1]:\n",
    "        det = det.split(' ')\n",
    "        if re.match(r\"[a-zA-Z]+\",det[1]):\n",
    "            new_row = {'xmin':[float(det[3])],'ymin':[float(det[4])],'xmax':[float(det[3])+float(det[5])],'ymax':[float(det[4])+float(det[6])],'name':[det[0]+\" \"+det[1]],'confidence':[float(det[2])],'class':[yolo_classes[det[0]+\" \"+det[1]]]}\n",
    "        else:\n",
    "            new_row = {'xmin':[float(det[2])],'ymin':[float(det[3])],'xmax':[float(det[2])+float(det[4])],'ymax':[float(det[3])+float(det[5])],'name':[det[0]],'confidence':[float(det[1])],'class':[yolo_classes[det[0]]]}\n",
    "        df_aux = pd.DataFrame(new_row)\n",
    "        df = pd.concat([df,df_aux],ignore_index=True,axis=0)\n",
    "    return df"
   ]
  },
  {
   "cell_type": "code",
   "execution_count": 181,
   "id": "612ce058",
   "metadata": {},
   "outputs": [],
   "source": [
    "def get_box(aux):\n",
    "    boxes = []\n",
    "    for name in pd.unique(list(aux['name'])): #recorremos cada una de las detecciones encontradas\n",
    "        df_aux = aux[(aux['name']==name) & (aux['confidence']>0.3)]  ########## CONFIDENCE ###########\n",
    "        df_aux = np.array([list(df_aux['xmin']),list(df_aux['ymin']),list(df_aux['xmax']),list(df_aux['ymax']),list(df_aux['confidence'])])\n",
    "        df_aux = df_aux.transpose()\n",
    "        if len(df_aux>0):\n",
    "            if boxes is None:\n",
    "                boxes = [NMS(df_aux),str(aux[aux['name']==name]['class'].unique()[0])]\n",
    "            else:\n",
    "                boxes.append([NMS(df_aux),str(aux[aux['name']==name]['class'].unique()[0])])\n",
    "    return boxes"
   ]
  },
  {
   "cell_type": "markdown",
   "id": "6815b1bf",
   "metadata": {},
   "source": [
    "## *Función para dibujar las detecciones en la imágen*"
   ]
  },
  {
   "cell_type": "code",
   "execution_count": 16,
   "id": "a238b477",
   "metadata": {},
   "outputs": [],
   "source": [
    "def draw_bounding_boxes(image,boxes):\n",
    "    if type(boxes[0]) == np.ndarray:\n",
    "        boxes = list(boxes)\n",
    "    colors = [(165,0,42),(205,173,0),(0,255,255),(178,58,238),(0,0,0),(0,0,139),(142,229,238),(127,255,0),(240,248,255)]\n",
    "    color = 0\n",
    "    for box_aux in boxes:\n",
    "        box = []\n",
    "        for i in box_aux:\n",
    "            box.append(int(i))\n",
    "        image = cv2.rectangle(copy.deepcopy(image),box[:2],box[2:], colors[color], 2)\n",
    "        color +=1\n",
    "        \n",
    "    image = Image.fromarray(image)\n",
    "    return image"
   ]
  },
  {
   "cell_type": "code",
   "execution_count": 1,
   "id": "3b9a60df",
   "metadata": {},
   "outputs": [],
   "source": [
    "def draw_from_df(path,df):\n",
    "    img = np.asanyarray(Image.open(path))\n",
    "    boxes = []\n",
    "    for i in range(0,len(df)):\n",
    "        box = []\n",
    "        box.append(df.iloc[i][0])\n",
    "        box.append(df.iloc[i][1])\n",
    "        box.append(df.iloc[i][2])\n",
    "        box.append(df.iloc[i][3])\n",
    "        boxes.append(box)\n",
    "    image = draw_bounding_boxes(img,boxes)\n",
    "    return image"
   ]
  },
  {
   "cell_type": "markdown",
   "id": "b248aac8",
   "metadata": {},
   "source": [
    "## *Función para limpiar la carpeta de detecciones por cada ejecución*"
   ]
  },
  {
   "cell_type": "code",
   "execution_count": 17,
   "id": "cd338d1d",
   "metadata": {},
   "outputs": [],
   "source": [
    "def remove_detections():\n",
    "    dir = './Object-Detection-Metrics-master/detections/'\n",
    "    for f in os.listdir(dir):\n",
    "        os.remove(os.path.join(dir, f))"
   ]
  },
  {
   "cell_type": "markdown",
   "id": "a6aaa657",
   "metadata": {},
   "source": [
    "## *Función para escribir los parámetros empleados en cada ejecución*"
   ]
  },
  {
   "cell_type": "code",
   "execution_count": null,
   "id": "b44ad90c",
   "metadata": {},
   "outputs": [],
   "source": [
    "def write_params(params):\n",
    "    if not type(params) == str:\n",
    "        params = str(params)\n",
    "    f = open(\"./out.txt\", \"a\")\n",
    "    f.write(params)\n",
    "    f.write(\" \")\n",
    "    f.close()"
   ]
  }
 ],
 "metadata": {
  "kernelspec": {
   "display_name": "Python 3 (ipykernel)",
   "language": "python",
   "name": "python3"
  },
  "language_info": {
   "codemirror_mode": {
    "name": "ipython",
    "version": 3
   },
   "file_extension": ".py",
   "mimetype": "text/x-python",
   "name": "python",
   "nbconvert_exporter": "python",
   "pygments_lexer": "ipython3",
   "version": "3.9.0"
  },
  "toc": {
   "base_numbering": 1,
   "nav_menu": {},
   "number_sections": true,
   "sideBar": true,
   "skip_h1_title": false,
   "title_cell": "Table of Contents",
   "title_sidebar": "Contents",
   "toc_cell": false,
   "toc_position": {},
   "toc_section_display": true,
   "toc_window_display": false
  }
 },
 "nbformat": 4,
 "nbformat_minor": 5
}
