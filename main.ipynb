{
 "cells": [
  {
   "cell_type": "markdown",
   "id": "d0730b05",
   "metadata": {},
   "source": [
    "# Notebook principal del TFG"
   ]
  },
  {
   "cell_type": "code",
   "execution_count": 1,
   "id": "f6d39e0c",
   "metadata": {
    "scrolled": false
   },
   "outputs": [],
   "source": [
    "%run functions.ipynb #cargamos las funciones"
   ]
  },
  {
   "cell_type": "markdown",
   "id": "aabf0bf9",
   "metadata": {},
   "source": [
    "# Tipos de transformaciones posibles"
   ]
  },
  {
   "cell_type": "markdown",
   "id": "0d132fac",
   "metadata": {},
   "source": [
    "    0.Imagen Original\n",
    "    1.Rotaciones\n",
    "    2.Brillo\n",
    "    3.Contraste\n",
    "    4.Saturacion\n",
    "    5.Color\n",
    "    \n",
    "    Ejemplo de entrada con transformacion compuesta                   [[1,2]] -> Transformacion de rotación + brillo\n",
    "    Ejemplo de entrada con transformacion simple con varios ajustes   [[1],[2]] -> Transformacion de rotación y brillo\n",
    "    Ejemplo de entrada con transformación simple con ajuste único     [[4]]        -> Cambio en la saturación"
   ]
  },
  {
   "cell_type": "markdown",
   "id": "f5bdb2d3",
   "metadata": {},
   "source": [
    "# Obtención del mAP"
   ]
  },
  {
   "cell_type": "markdown",
   "id": "a29f1cad",
   "metadata": {},
   "source": [
    "## Miramos en las anotaciones del dataset y guardamos las ground truths"
   ]
  },
  {
   "cell_type": "code",
   "execution_count": 2,
   "id": "e4309386",
   "metadata": {},
   "outputs": [],
   "source": [
    "annotations = save_annotations_original_images() #guardamos las ground truths"
   ]
  },
  {
   "cell_type": "markdown",
   "id": "d70a1759",
   "metadata": {},
   "source": [
    "## Obtenemos el mAP de las imágenes sin transformar"
   ]
  },
  {
   "cell_type": "code",
   "execution_count": 3,
   "id": "f7d1db69",
   "metadata": {
    "scrolled": true
   },
   "outputs": [],
   "source": [
    "%%capture mAp\n",
    "num_img_transformed = 1\n",
    "transformation = [[0]]\n",
    "transformed_images = transformations(num_img_transformed,transformation)\n",
    "apply_NMS()\n",
    "time.sleep(2)\n",
    "!python \"Object-Detection-Metrics-master/pascalvoc.py\""
   ]
  },
  {
   "cell_type": "code",
   "execution_count": 4,
   "id": "490c1a6a",
   "metadata": {},
   "outputs": [
    {
     "name": "stdout",
     "output_type": "stream",
     "text": [
      "95.83%\n",
      "\n"
     ]
    }
   ],
   "source": [
    "print(mAp)"
   ]
  },
  {
   "cell_type": "markdown",
   "id": "ef38404d",
   "metadata": {},
   "source": [
    "## Cálculo del mAP con transformaciones simples de ajuste único"
   ]
  },
  {
   "cell_type": "markdown",
   "id": "1958bf54",
   "metadata": {},
   "source": [
    "### Ajuste de Rotación"
   ]
  },
  {
   "cell_type": "code",
   "execution_count": null,
   "id": "24eef739",
   "metadata": {
    "scrolled": true
   },
   "outputs": [],
   "source": [
    "%%capture mAp\n",
    "for i in range(0,10):\n",
    "    num_img_transformed = 1\n",
    "    transformation = [[1]]\n",
    "    transformed_images = transformations(num_img_transformed,transformation)\n",
    "    apply_NMS()\n",
    "    time.sleep(2)\n",
    "    !python \"Object-Detection-Metrics-master/pascalvoc.py\""
   ]
  },
  {
   "cell_type": "code",
   "execution_count": null,
   "id": "32369048",
   "metadata": {
    "scrolled": false
   },
   "outputs": [],
   "source": [
    "print(mAp)"
   ]
  },
  {
   "cell_type": "markdown",
   "id": "113e35d5",
   "metadata": {},
   "source": [
    "### Ajuste de Brillo"
   ]
  },
  {
   "cell_type": "code",
   "execution_count": null,
   "id": "a75aee11",
   "metadata": {},
   "outputs": [],
   "source": [
    "%%capture mAp\n",
    "for i in range(0,10):\n",
    "    num_img_transformed = 1\n",
    "    transformation = [[2]]\n",
    "    transformed_images = transformations(num_img_transformed,transformation)\n",
    "    apply_NMS()\n",
    "    time.sleep(2)\n",
    "    !python \"Object-Detection-Metrics-master/pascalvoc.py\""
   ]
  },
  {
   "cell_type": "code",
   "execution_count": null,
   "id": "900258f4",
   "metadata": {},
   "outputs": [],
   "source": [
    "print(mAp)"
   ]
  },
  {
   "cell_type": "markdown",
   "id": "dd29652f",
   "metadata": {},
   "source": [
    "### Ajuste de Contraste"
   ]
  },
  {
   "cell_type": "code",
   "execution_count": null,
   "id": "dc4b341f",
   "metadata": {},
   "outputs": [],
   "source": [
    "%%capture mAp\n",
    "for i in range(0,10):\n",
    "    num_img_transformed = 1\n",
    "    transformation = [[3]]\n",
    "    transformed_images = transformations(num_img_transformed,transformation)\n",
    "    apply_NMS()\n",
    "    time.sleep(2)\n",
    "    !python \"Object-Detection-Metrics-master/pascalvoc.py\""
   ]
  },
  {
   "cell_type": "code",
   "execution_count": null,
   "id": "2721bc17",
   "metadata": {},
   "outputs": [],
   "source": [
    "print(mAp)"
   ]
  },
  {
   "cell_type": "markdown",
   "id": "327c629a",
   "metadata": {},
   "source": [
    "### Ajuste de Saturación"
   ]
  },
  {
   "cell_type": "code",
   "execution_count": null,
   "id": "5b8d78af",
   "metadata": {},
   "outputs": [],
   "source": [
    "%%capture mAp\n",
    "for i in range(0,10):\n",
    "    num_img_transformed = 1\n",
    "    transformation = [[4]]\n",
    "    transformed_images = transformations(num_img_transformed,transformation)\n",
    "    apply_NMS()\n",
    "    time.sleep(2)\n",
    "    !python \"Object-Detection-Metrics-master/pascalvoc.py\""
   ]
  },
  {
   "cell_type": "code",
   "execution_count": null,
   "id": "8ba3688f",
   "metadata": {},
   "outputs": [],
   "source": [
    "print(mAp)"
   ]
  },
  {
   "cell_type": "markdown",
   "id": "25a653af",
   "metadata": {},
   "source": [
    "### Ajuste de Color"
   ]
  },
  {
   "cell_type": "code",
   "execution_count": null,
   "id": "ca1994ff",
   "metadata": {},
   "outputs": [],
   "source": [
    "%%capture mAp\n",
    "for i in range(0,10):\n",
    "    num_img_transformed = 1\n",
    "    transformation = [[5]]\n",
    "    transformed_images = transformations(num_img_transformed,transformation)\n",
    "    apply_NMS()\n",
    "    time.sleep(2)\n",
    "    !python \"Object-Detection-Metrics-master/pascalvoc.py\""
   ]
  },
  {
   "cell_type": "code",
   "execution_count": null,
   "id": "08d6ddee",
   "metadata": {},
   "outputs": [],
   "source": [
    "print(mAp)"
   ]
  },
  {
   "cell_type": "markdown",
   "id": "c676509b",
   "metadata": {},
   "source": [
    "## Cálculo del mAP empleando transformaciones simples con 2 ajustes"
   ]
  },
  {
   "cell_type": "markdown",
   "id": "5fd4ebc2",
   "metadata": {},
   "source": [
    "### Rotación y Brillo"
   ]
  },
  {
   "cell_type": "code",
   "execution_count": null,
   "id": "a24e5b9e",
   "metadata": {},
   "outputs": [],
   "source": [
    "%%capture mAp\n",
    "for i in range(0,10):\n",
    "    num_img_transformed = 1\n",
    "    transformation = [[1],[2]]\n",
    "    transformed_images = transformations(num_img_transformed,transformation)\n",
    "    apply_NMS()\n",
    "    time.sleep(5)\n",
    "    !python \"Object-Detection-Metrics-master/pascalvoc.py\""
   ]
  },
  {
   "cell_type": "code",
   "execution_count": null,
   "id": "291b0a5e",
   "metadata": {},
   "outputs": [],
   "source": [
    "print(mAp)"
   ]
  },
  {
   "cell_type": "markdown",
   "id": "03cd7689",
   "metadata": {},
   "source": [
    "### Rotación y Contraste"
   ]
  },
  {
   "cell_type": "code",
   "execution_count": null,
   "id": "969013f3",
   "metadata": {},
   "outputs": [],
   "source": [
    "%%capture mAp\n",
    "for i in range(0,10):\n",
    "    num_img_transformed = 1\n",
    "    transformation = [[1],[3]]\n",
    "    transformed_images = transformations(num_img_transformed,transformation)\n",
    "    apply_NMS()\n",
    "    time.sleep(5)\n",
    "    !python \"Object-Detection-Metrics-master/pascalvoc.py\""
   ]
  },
  {
   "cell_type": "code",
   "execution_count": null,
   "id": "1a642561",
   "metadata": {},
   "outputs": [],
   "source": [
    "print(mAp)"
   ]
  },
  {
   "cell_type": "markdown",
   "id": "16a362d7",
   "metadata": {},
   "source": [
    "### Rotación y Saturación"
   ]
  },
  {
   "cell_type": "code",
   "execution_count": null,
   "id": "eb5240c4",
   "metadata": {},
   "outputs": [],
   "source": [
    "%%capture mAp\n",
    "for i in range(0,10):\n",
    "    num_img_transformed = 1\n",
    "    transformation = [[1],[4]]\n",
    "    transformed_images = transformations(num_img_transformed,transformation)\n",
    "    apply_NMS()\n",
    "    time.sleep(5)\n",
    "    !python \"Object-Detection-Metrics-master/pascalvoc.py\""
   ]
  },
  {
   "cell_type": "code",
   "execution_count": null,
   "id": "3c98d7df",
   "metadata": {},
   "outputs": [],
   "source": [
    "print(mAp)"
   ]
  },
  {
   "cell_type": "markdown",
   "id": "f76437cf",
   "metadata": {},
   "source": [
    "### Rotación y Color"
   ]
  },
  {
   "cell_type": "code",
   "execution_count": null,
   "id": "65b096a7",
   "metadata": {},
   "outputs": [],
   "source": [
    "%%capture mAp\n",
    "for i in range(0,10):\n",
    "    num_img_transformed = 1\n",
    "    transformation = [[1],[5]]\n",
    "    transformed_images = transformations(num_img_transformed,transformation)\n",
    "    apply_NMS()\n",
    "    time.sleep(5)\n",
    "    !python \"Object-Detection-Metrics-master/pascalvoc.py\""
   ]
  },
  {
   "cell_type": "code",
   "execution_count": null,
   "id": "2653f4f2",
   "metadata": {},
   "outputs": [],
   "source": [
    "print(mAp)"
   ]
  },
  {
   "cell_type": "markdown",
   "id": "ff3770ce",
   "metadata": {},
   "source": [
    "### Brillo y Contraste"
   ]
  },
  {
   "cell_type": "code",
   "execution_count": null,
   "id": "3da477ec",
   "metadata": {},
   "outputs": [],
   "source": [
    "%%capture mAp\n",
    "for i in range(0,10):\n",
    "    num_img_transformed = 1\n",
    "    transformation = [[2],[3]]\n",
    "    transformed_images = transformations(num_img_transformed,transformation)\n",
    "    apply_NMS()\n",
    "    time.sleep(5)\n",
    "    !python \"Object-Detection-Metrics-master/pascalvoc.py\""
   ]
  },
  {
   "cell_type": "code",
   "execution_count": null,
   "id": "8bf0ba2c",
   "metadata": {},
   "outputs": [],
   "source": [
    "print(mAp)"
   ]
  },
  {
   "cell_type": "markdown",
   "id": "f7db1e07",
   "metadata": {},
   "source": [
    "### Brillo y Saturación"
   ]
  },
  {
   "cell_type": "code",
   "execution_count": null,
   "id": "1c005b66",
   "metadata": {},
   "outputs": [],
   "source": [
    "%%capture mAp\n",
    "for i in range(0,10):\n",
    "    num_img_transformed = 1\n",
    "    transformation = [[2],[4]]\n",
    "    transformed_images = transformations(num_img_transformed,transformation)\n",
    "    apply_NMS()\n",
    "    time.sleep(5)\n",
    "    !python \"Object-Detection-Metrics-master/pascalvoc.py\""
   ]
  },
  {
   "cell_type": "code",
   "execution_count": null,
   "id": "97c7a6e1",
   "metadata": {},
   "outputs": [],
   "source": [
    "print(mAp)"
   ]
  },
  {
   "cell_type": "markdown",
   "id": "5b7f31ce",
   "metadata": {},
   "source": [
    "### Brillo y Color"
   ]
  },
  {
   "cell_type": "code",
   "execution_count": null,
   "id": "cd313786",
   "metadata": {},
   "outputs": [],
   "source": [
    "%%capture mAp\n",
    "for i in range(0,10):\n",
    "    num_img_transformed = 1\n",
    "    transformation = [[2],[5]]\n",
    "    transformed_images = transformations(num_img_transformed,transformation)\n",
    "    apply_NMS()\n",
    "    time.sleep(5)\n",
    "    !python \"Object-Detection-Metrics-master/pascalvoc.py\""
   ]
  },
  {
   "cell_type": "code",
   "execution_count": null,
   "id": "3de17c62",
   "metadata": {},
   "outputs": [],
   "source": [
    "print(mAp)"
   ]
  },
  {
   "cell_type": "markdown",
   "id": "68cb6a7e",
   "metadata": {},
   "source": [
    "### Contraste y Saturación"
   ]
  },
  {
   "cell_type": "code",
   "execution_count": null,
   "id": "7d6404e4",
   "metadata": {},
   "outputs": [],
   "source": [
    "%%capture mAp\n",
    "for i in range(0,10):\n",
    "    num_img_transformed = 1\n",
    "    transformation = [[3],[4]]\n",
    "    transformed_images = transformations(num_img_transformed,transformation)\n",
    "    apply_NMS()\n",
    "    time.sleep(5)\n",
    "    !python \"Object-Detection-Metrics-master/pascalvoc.py\""
   ]
  },
  {
   "cell_type": "code",
   "execution_count": null,
   "id": "30d07dd1",
   "metadata": {},
   "outputs": [],
   "source": [
    "print(mAp)"
   ]
  },
  {
   "cell_type": "markdown",
   "id": "d46ecfe6",
   "metadata": {},
   "source": [
    "### Contraste y Color"
   ]
  },
  {
   "cell_type": "code",
   "execution_count": null,
   "id": "a96f27c8",
   "metadata": {},
   "outputs": [],
   "source": [
    "%%capture mAp\n",
    "for i in range(0,10):\n",
    "    num_img_transformed = 1\n",
    "    transformation = [[3],[5]]\n",
    "    transformed_images = transformations(num_img_transformed,transformation)\n",
    "    apply_NMS()\n",
    "    time.sleep(5)\n",
    "    !python \"Object-Detection-Metrics-master/pascalvoc.py\""
   ]
  },
  {
   "cell_type": "code",
   "execution_count": null,
   "id": "556bc6c2",
   "metadata": {},
   "outputs": [],
   "source": [
    "print(mAp)"
   ]
  },
  {
   "cell_type": "markdown",
   "id": "9cefddcd",
   "metadata": {},
   "source": [
    "### Saturación y Color"
   ]
  },
  {
   "cell_type": "code",
   "execution_count": null,
   "id": "1563f0ee",
   "metadata": {},
   "outputs": [],
   "source": [
    "%%capture mAp\n",
    "for i in range(0,10):\n",
    "    num_img_transformed = 1\n",
    "    transformation = [[4],[5]]\n",
    "    transformed_images = transformations(num_img_transformed,transformation)\n",
    "    apply_NMS() \n",
    "    time.sleep(5)\n",
    "    !python \"Object-Detection-Metrics-master/pascalvoc.py\""
   ]
  },
  {
   "cell_type": "code",
   "execution_count": null,
   "id": "35297d96",
   "metadata": {
    "scrolled": false
   },
   "outputs": [],
   "source": [
    "print(mAp)"
   ]
  },
  {
   "cell_type": "markdown",
   "id": "7552ef3b",
   "metadata": {},
   "source": [
    "## Cálculo del mAP empleando transformaciones simples con 3 ajustes"
   ]
  },
  {
   "cell_type": "markdown",
   "id": "cb13cce4",
   "metadata": {},
   "source": [
    "### Rotación, Brillo y Color"
   ]
  },
  {
   "cell_type": "code",
   "execution_count": null,
   "id": "231c314d",
   "metadata": {},
   "outputs": [],
   "source": [
    "%%capture mAp\n",
    "for i in range(0,10):\n",
    "    num_img_transformed = 1\n",
    "    transformation = [[2],[5],[1]]\n",
    "    transformed_images = transformations(num_img_transformed,transformation)\n",
    "    apply_NMS()\n",
    "    time.sleep(5)\n",
    "    !python \"Object-Detection-Metrics-master/pascalvoc.py\""
   ]
  },
  {
   "cell_type": "code",
   "execution_count": null,
   "id": "3c17da65",
   "metadata": {},
   "outputs": [],
   "source": [
    "print(mAp)"
   ]
  },
  {
   "cell_type": "markdown",
   "id": "a4a021b5",
   "metadata": {},
   "source": [
    "### Rotación, Saturación y Color"
   ]
  },
  {
   "cell_type": "code",
   "execution_count": null,
   "id": "0912e734",
   "metadata": {},
   "outputs": [],
   "source": [
    "%%capture mAp\n",
    "for i in range(0,10):\n",
    "    num_img_transformed = 1\n",
    "    transformation = [[4],[5],[1]]\n",
    "    transformed_images = transformations(num_img_transformed,transformation)\n",
    "    apply_NMS()\n",
    "    time.sleep(5)\n",
    "    !python \"Object-Detection-Metrics-master/pascalvoc.py\""
   ]
  },
  {
   "cell_type": "code",
   "execution_count": null,
   "id": "41815b7b",
   "metadata": {},
   "outputs": [],
   "source": [
    "print(mAp)"
   ]
  },
  {
   "cell_type": "markdown",
   "id": "12486b79",
   "metadata": {},
   "source": [
    "### Brillo, Saturación y Color"
   ]
  },
  {
   "cell_type": "code",
   "execution_count": null,
   "id": "90ee945e",
   "metadata": {},
   "outputs": [],
   "source": [
    "%%capture mAp\n",
    "for i in range(0,10):\n",
    "    num_img_transformed = 1\n",
    "    transformation = [[2],[4],[5]]\n",
    "    transformed_images = transformations(num_img_transformed,transformation)\n",
    "    apply_NMS()\n",
    "    time.sleep(5)\n",
    "    !python \"Object-Detection-Metrics-master/pascalvoc.py\""
   ]
  },
  {
   "cell_type": "code",
   "execution_count": null,
   "id": "21f17abd",
   "metadata": {},
   "outputs": [],
   "source": [
    "print(mAp)"
   ]
  },
  {
   "cell_type": "markdown",
   "id": "579cf75e",
   "metadata": {},
   "source": [
    "### Brillo, Contraste y Color"
   ]
  },
  {
   "cell_type": "code",
   "execution_count": null,
   "id": "c3131dd7",
   "metadata": {},
   "outputs": [],
   "source": [
    "%%capture mAp\n",
    "for i in range(0,10):\n",
    "    num_img_transformed = 1\n",
    "    transformation = [[2],[3],[5]]\n",
    "    transformed_images = transformations(num_img_transformed,transformation)\n",
    "    apply_NMS()\n",
    "    time.sleep(5)\n",
    "    !python \"Object-Detection-Metrics-master/pascalvoc.py\""
   ]
  },
  {
   "cell_type": "code",
   "execution_count": null,
   "id": "618c52ee",
   "metadata": {},
   "outputs": [],
   "source": [
    "print(mAp)"
   ]
  },
  {
   "cell_type": "markdown",
   "id": "ee5c20ff",
   "metadata": {},
   "source": [
    "## Transformaciones compuestas sobre la misma imagen"
   ]
  },
  {
   "cell_type": "markdown",
   "id": "14e4318b",
   "metadata": {},
   "source": [
    "### Ajustes de Rotación + Brillo"
   ]
  },
  {
   "cell_type": "code",
   "execution_count": null,
   "id": "d3d36f55",
   "metadata": {},
   "outputs": [],
   "source": [
    "%%capture mAp\n",
    "for i in range(0,10):\n",
    "    num_img_transformed = 1\n",
    "    transformation = [[2,1]]\n",
    "    transformed_images = transformations(num_img_transformed,transformation)\n",
    "    apply_NMS()\n",
    "    time.sleep(2)\n",
    "    !python \"Object-Detection-Metrics-master/pascalvoc.py\""
   ]
  },
  {
   "cell_type": "code",
   "execution_count": null,
   "id": "ab9114ab",
   "metadata": {},
   "outputs": [],
   "source": [
    "print(mAp)"
   ]
  },
  {
   "cell_type": "markdown",
   "id": "a986f1bc",
   "metadata": {},
   "source": [
    "### Ajustes de Rotación + Contraste"
   ]
  },
  {
   "cell_type": "code",
   "execution_count": null,
   "id": "d02a7052",
   "metadata": {},
   "outputs": [],
   "source": [
    "%%capture mAp\n",
    "for i in range(0,10):\n",
    "    num_img_transformed = 1\n",
    "    transformation = [[3,1]]\n",
    "    transformed_images = transformations(num_img_transformed,transformation)\n",
    "    apply_NMS()\n",
    "    time.sleep(2)\n",
    "    !python \"Object-Detection-Metrics-master/pascalvoc.py\""
   ]
  },
  {
   "cell_type": "code",
   "execution_count": null,
   "id": "203665cf",
   "metadata": {},
   "outputs": [],
   "source": [
    "print(mAp)"
   ]
  },
  {
   "cell_type": "markdown",
   "id": "b03de67d",
   "metadata": {},
   "source": [
    "### Ajustes de Rotación + Saturación"
   ]
  },
  {
   "cell_type": "code",
   "execution_count": null,
   "id": "2fca9c8a",
   "metadata": {},
   "outputs": [],
   "source": [
    "%%capture mAp\n",
    "for i in range(0,10):\n",
    "    num_img_transformed = 1\n",
    "    transformation = [[4,1]]\n",
    "    transformed_images = transformations(num_img_transformed,transformation)\n",
    "    apply_NMS()\n",
    "    time.sleep(2)\n",
    "    !python \"Object-Detection-Metrics-master/pascalvoc.py\""
   ]
  },
  {
   "cell_type": "code",
   "execution_count": null,
   "id": "5f13d16e",
   "metadata": {},
   "outputs": [],
   "source": [
    "print(mAp)"
   ]
  },
  {
   "cell_type": "markdown",
   "id": "fea004b2",
   "metadata": {},
   "source": [
    "### Ajustes de Rotación + Color"
   ]
  },
  {
   "cell_type": "code",
   "execution_count": null,
   "id": "3b972c5e",
   "metadata": {},
   "outputs": [],
   "source": [
    "%%capture mAp\n",
    "for i in range(0,10):\n",
    "    num_img_transformed = 1\n",
    "    transformation = [[5,1]]\n",
    "    transformed_images = transformations(num_img_transformed,transformation)\n",
    "    apply_NMS()\n",
    "    time.sleep(2)\n",
    "    !python \"Object-Detection-Metrics-master/pascalvoc.py\""
   ]
  },
  {
   "cell_type": "code",
   "execution_count": null,
   "id": "c4ed46ff",
   "metadata": {},
   "outputs": [],
   "source": [
    "print(mAp)"
   ]
  },
  {
   "cell_type": "markdown",
   "id": "98a5f487",
   "metadata": {},
   "source": [
    "### Ajustes de Brillo + Contraste"
   ]
  },
  {
   "cell_type": "code",
   "execution_count": null,
   "id": "2e1d98ff",
   "metadata": {},
   "outputs": [],
   "source": [
    "%%capture mAp\n",
    "for i in range(0,10):\n",
    "    num_img_transformed = 1\n",
    "    transformation = [[2,3]]\n",
    "    transformed_images = transformations(num_img_transformed,transformation)\n",
    "    apply_NMS()\n",
    "    time.sleep(2)\n",
    "    !python \"Object-Detection-Metrics-master/pascalvoc.py\""
   ]
  },
  {
   "cell_type": "code",
   "execution_count": null,
   "id": "27be3782",
   "metadata": {},
   "outputs": [],
   "source": [
    "print(mAp)"
   ]
  },
  {
   "cell_type": "markdown",
   "id": "deb5b6c5",
   "metadata": {},
   "source": [
    "### Ajustes de Brillo + Saturación"
   ]
  },
  {
   "cell_type": "code",
   "execution_count": null,
   "id": "55c08772",
   "metadata": {},
   "outputs": [],
   "source": [
    "%%capture mAp\n",
    "for i in range(0,10):\n",
    "    num_img_transformed = 1\n",
    "    transformation = [[2,4]]\n",
    "    transformed_images = transformations(num_img_transformed,transformation)\n",
    "    apply_NMS()\n",
    "    time.sleep(5)\n",
    "    !python \"Object-Detection-Metrics-master/pascalvoc.py\""
   ]
  },
  {
   "cell_type": "code",
   "execution_count": null,
   "id": "7ec11204",
   "metadata": {},
   "outputs": [],
   "source": [
    "print(mAp)"
   ]
  },
  {
   "cell_type": "markdown",
   "id": "dd26a5ba",
   "metadata": {},
   "source": [
    "### Ajustes de Brillo + Color"
   ]
  },
  {
   "cell_type": "code",
   "execution_count": null,
   "id": "757464d7",
   "metadata": {},
   "outputs": [],
   "source": [
    "%%capture mAp\n",
    "for i in range(0,10):\n",
    "    num_img_transformed = 1\n",
    "    transformation = [[2,5]]\n",
    "    transformed_images = transformations(num_img_transformed,transformation)\n",
    "    apply_NMS()\n",
    "    time.sleep(5)\n",
    "    !python \"Object-Detection-Metrics-master/pascalvoc.py\""
   ]
  },
  {
   "cell_type": "code",
   "execution_count": null,
   "id": "29fe775a",
   "metadata": {},
   "outputs": [],
   "source": [
    "print(mAp)"
   ]
  },
  {
   "cell_type": "markdown",
   "id": "d0d8e557",
   "metadata": {},
   "source": [
    "### Ajustes de Contraste + Saturación"
   ]
  },
  {
   "cell_type": "code",
   "execution_count": null,
   "id": "2cda635e",
   "metadata": {},
   "outputs": [],
   "source": [
    "%%capture mAp\n",
    "for i in range(0,10):\n",
    "    num_img_transformed = 1\n",
    "    transformation = [[3,4]]\n",
    "    transformed_images = transformations(num_img_transformed,transformation)\n",
    "    apply_NMS()\n",
    "    time.sleep(5)\n",
    "    !python \"Object-Detection-Metrics-master/pascalvoc.py\""
   ]
  },
  {
   "cell_type": "code",
   "execution_count": null,
   "id": "fe740fd7",
   "metadata": {},
   "outputs": [],
   "source": [
    "print(mAp)"
   ]
  },
  {
   "cell_type": "markdown",
   "id": "06cc4551",
   "metadata": {},
   "source": [
    "### Ajustes de Contraste + Color"
   ]
  },
  {
   "cell_type": "code",
   "execution_count": null,
   "id": "f9e66ba9",
   "metadata": {},
   "outputs": [],
   "source": [
    "%%capture mAp\n",
    "for i in range(0,10):\n",
    "    num_img_transformed = 1\n",
    "    transformation = [[3,5]]\n",
    "    transformed_images = transformations(num_img_transformed,transformation)\n",
    "    apply_NMS()\n",
    "    time.sleep(5)\n",
    "    !python \"Object-Detection-Metrics-master/pascalvoc.py\""
   ]
  },
  {
   "cell_type": "code",
   "execution_count": null,
   "id": "943ed51e",
   "metadata": {},
   "outputs": [],
   "source": [
    "print(mAp)"
   ]
  },
  {
   "cell_type": "markdown",
   "id": "8476c543",
   "metadata": {},
   "source": [
    "### Ajustes de Saturación + Color"
   ]
  },
  {
   "cell_type": "code",
   "execution_count": null,
   "id": "b74358af",
   "metadata": {},
   "outputs": [],
   "source": [
    "%%capture mAp\n",
    "for i in range(0,10):\n",
    "    num_img_transformed = 1\n",
    "    transformation = [[4,5]]\n",
    "    transformed_images = transformations(num_img_transformed,transformation)\n",
    "    apply_NMS()\n",
    "    time.sleep(5)\n",
    "    !python \"Object-Detection-Metrics-master/pascalvoc.py\""
   ]
  },
  {
   "cell_type": "code",
   "execution_count": null,
   "id": "768d521e",
   "metadata": {},
   "outputs": [],
   "source": [
    "print(mAp)"
   ]
  }
 ],
 "metadata": {
  "kernelspec": {
   "display_name": "Python 3 (ipykernel)",
   "language": "python",
   "name": "python3"
  },
  "language_info": {
   "codemirror_mode": {
    "name": "ipython",
    "version": 3
   },
   "file_extension": ".py",
   "mimetype": "text/x-python",
   "name": "python",
   "nbconvert_exporter": "python",
   "pygments_lexer": "ipython3",
   "version": "3.9.0"
  },
  "tags": "output_scroll",
  "toc": {
   "base_numbering": 1,
   "nav_menu": {},
   "number_sections": true,
   "sideBar": true,
   "skip_h1_title": false,
   "title_cell": "Table of Contents",
   "title_sidebar": "Contents",
   "toc_cell": false,
   "toc_position": {},
   "toc_section_display": true,
   "toc_window_display": false
  }
 },
 "nbformat": 4,
 "nbformat_minor": 5
}
